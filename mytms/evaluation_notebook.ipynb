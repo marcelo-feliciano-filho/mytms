{
 "cells": [
  {
   "cell_type": "code",
   "execution_count": 5,
   "id": "initial_id",
   "metadata": {
    "collapsed": true,
    "ExecuteTime": {
     "end_time": "2024-09-03T00:54:17.125119300Z",
     "start_time": "2024-09-03T00:54:15.107944400Z"
    }
   },
   "outputs": [
    {
     "name": "stdout",
     "output_type": "stream",
     "text": [
      "Expecting value: line 1 column 1 (char 0)\n"
     ]
    }
   ],
   "source": [
    "import requests\n",
    "\n",
    "try: \n",
    "    # Listing campaigns\n",
    "    campaings = requests.get(\"http://localhost:8000/api/campaigns/\")\n",
    "    print(campaings.json())\n",
    "    \n",
    "    # Listing Members\n",
    "    members = requests.get(\"http://localhost:8000/api/members/\")\n",
    "    print(members.json())\n",
    "    \n",
    "    # Listing campaigns\n",
    "    tasks = requests.get(\"http://localhost:8000/api/tasks/\")\n",
    "    print(tasks.json())\n",
    "    \n",
    "except Exception as error:\n",
    "    print(error)"
   ]
  },
  {
   "cell_type": "code",
   "execution_count": null,
   "outputs": [],
   "source": [],
   "metadata": {
    "collapsed": false
   },
   "id": "c9d501a691531cfd"
  }
 ],
 "metadata": {
  "kernelspec": {
   "display_name": "Python 3",
   "language": "python",
   "name": "python3"
  },
  "language_info": {
   "codemirror_mode": {
    "name": "ipython",
    "version": 2
   },
   "file_extension": ".py",
   "mimetype": "text/x-python",
   "name": "python",
   "nbconvert_exporter": "python",
   "pygments_lexer": "ipython2",
   "version": "2.7.6"
  }
 },
 "nbformat": 4,
 "nbformat_minor": 5
}
